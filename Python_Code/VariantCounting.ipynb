{
 "cells": [
  {
   "cell_type": "markdown",
   "metadata": {},
   "source": [
    "## Count number nucleotide variants in the alignment"
   ]
  },
  {
   "cell_type": "code",
   "execution_count": 1,
   "metadata": {
    "collapsed": false
   },
   "outputs": [],
   "source": [
    "#first, begin by importing the nucleotide sequences\n",
    "from Bio import SeqIO\n",
    "\n",
    "alignment_file = open('/Users/alliblk/Desktop/IHNV_Ongoing/Infiles/U_FirstDets_nucleotides.fasta', \"rU\")\n",
    "alignment_dict = SeqIO.to_dict(SeqIO.parse(alignment_file, \"fasta\"))\n",
    "alignment_file.close()"
   ]
  },
  {
   "cell_type": "code",
   "execution_count": 2,
   "metadata": {
    "collapsed": false
   },
   "outputs": [
    {
     "name": "stdout",
     "output_type": "stream",
     "text": [
      "114\n",
      "GATTCCAGCCAAGAGATAAAAGGTCACCTCTTTGCTGACAAAACCTCCAATCGAGTCGTGAAGGCAACGAGCTACGGACACCACCCCTGGGGACTGCATCGGGCCTGTATGATTGAATTCTGTGGGAAACAGTGGATACGGACAGATCTCGGCGACCTGATATCTGTCGAATACAATTCCGGAGCAGAAATCCTCTCGTTCCCGAAGTGTGAGGACAAGACGGTGGGGATGAGGGGAAACCTGGATGACTTTGCCTATCTAGACGATCTGGTGAAGGCCTCTGAGAGCAGAGAGGAATGTCTT\n"
     ]
    }
   ],
   "source": [
    "#there are 114 genotypes so the dictionary should have length 114... yep\n",
    "print len(alignment_dict)\n",
    "print alignment_dict['2009_mG179U_UP'].seq #check to make sure that the sequence looks as expected"
   ]
  },
  {
   "cell_type": "code",
   "execution_count": 3,
   "metadata": {
    "collapsed": false
   },
   "outputs": [
    {
     "name": "stdout",
     "output_type": "stream",
     "text": [
      "114\n",
      "303\n",
      "GATTCCAGCCAAGAGATAAAAGGTCACCTCTTTGCTGACAAAACCTCCAATCGAGTCGTGAAGGCAACGAGCTACGGACACCACCCCTGGGGACTGCATCGGGCCTGTATGATTGAATTCTGTGGGAAACAGTGGATACGGACAGATCTCGGCGACCTGATATCTGTCGAATACAATTCCGGAGCAGAAATCCTCTCGTTCCCGAAGTGTGAGGACAAGACGGTGGGGATGAGGGGAAACCTGGATGACTTTGCCTATCTAGACGATCTGGTGAAGGCCTCTGAGAGCAGAGAGGAATGTCTT\n",
      "True\n"
     ]
    }
   ],
   "source": [
    "nt_seqs = []\n",
    "for key in alignment_dict.keys():\n",
    "    sequence = alignment_dict[key].seq\n",
    "    nt_seqs.append(sequence)\n",
    "\n",
    "print len(nt_seqs) #should be 114 because that's how many genotypes we have\n",
    "print len(nt_seqs[0]) #should be 303 nts long\n",
    "print nt_seqs[0]\n",
    "\n",
    "if nt_seqs[0] == alignment_dict['2009_mG179U_UP'].seq:\n",
    "    print 'True'"
   ]
  },
  {
   "cell_type": "code",
   "execution_count": 4,
   "metadata": {
    "collapsed": false
   },
   "outputs": [],
   "source": [
    "#translate the alignment from nts to numbers to make array work later a bit easier.\n",
    "#all ambiguities will become 0 to ensure ease of excluding ambiguities\n",
    "#(easier to skip one string that represents all ambiguities than 8 different strings that represent ambiguous bases)\n",
    "numbers_genotypes = []\n",
    "for key in alignment_dict.keys():\n",
    "    sequence = alignment_dict[key].seq\n",
    "    numbers_sequence = []\n",
    "    for base in sequence:\n",
    "        if base == 'A':\n",
    "            numbers_sequence.append(1)\n",
    "        elif base == 'C':\n",
    "            numbers_sequence.append(2)\n",
    "        elif base == 'G':\n",
    "            numbers_sequence.append(3)\n",
    "        elif base == 'T':\n",
    "            numbers_sequence.append(4)\n",
    "        else:\n",
    "            numbers_sequence.append(0)\n",
    "    numbers_genotypes.append(numbers_sequence)"
   ]
  },
  {
   "cell_type": "code",
   "execution_count": 5,
   "metadata": {
    "collapsed": false
   },
   "outputs": [
    {
     "name": "stdout",
     "output_type": "stream",
     "text": [
      "[3, 1, 4, 4, 2, 2, 1, 3, 2, 2, 1, 1, 3, 1, 3, 1, 4, 1, 1, 1, 1, 3, 3, 4, 2, 1, 2, 2, 4, 2, 4, 4, 4, 3, 2, 4, 3, 1, 2, 1, 1, 1, 1, 2, 2, 4, 2, 2, 1, 1, 4, 2, 3, 1, 3, 4, 2, 3, 4, 3, 1, 1, 3, 3, 2, 1, 1, 2, 3, 1, 3, 2, 4, 1, 2, 3, 3, 1, 2, 1, 2, 2, 1, 2, 2, 2, 2, 4, 3, 3, 3, 3, 1, 2, 4, 3, 2, 1, 4, 2, 3, 3, 3, 2, 2, 4, 3, 4, 1, 4, 3, 1, 4, 4, 3, 1, 1, 4, 4, 2, 4, 3, 4, 3, 3, 3, 1, 1, 1, 2, 1, 3, 4, 3, 3, 1, 4, 1, 2, 3, 3, 1, 2, 1, 3, 1, 4, 2, 4, 2, 3, 3, 2, 3, 1, 2, 2, 4, 3, 1, 4, 1, 4, 2, 4, 3, 4, 2, 3, 1, 1, 4, 1, 2, 1, 1, 4, 4, 2, 2, 3, 3, 1, 3, 2, 1, 3, 1, 1, 1, 4, 2, 2, 4, 2, 4, 2, 3, 4, 4, 2, 2, 2, 3, 1, 1, 3, 4, 3, 4, 3, 1, 3, 3, 1, 2, 1, 1, 3, 1, 2, 3, 3, 4, 3, 3, 3, 3, 1, 4, 3, 1, 3, 3, 3, 3, 1, 1, 1, 2, 2, 4, 3, 3, 1, 4, 3, 1, 2, 4, 4, 4, 3, 2, 2, 4, 1, 4, 2, 4, 1, 3, 1, 2, 3, 1, 4, 2, 4, 3, 3, 4, 3, 1, 1, 3, 3, 2, 2, 4, 2, 4, 3, 1, 3, 1, 3, 2, 1, 3, 1, 3, 1, 3, 3, 1, 1, 4, 3, 4, 2, 4, 4]\n",
      "GATTCCAGCCAAGAGATAAAAGGTCACCTCTTTGCTGACAAAACCTCCAATCGAGTCGTGAAGGCAACGAGCTACGGACACCACCCCTGGGGACTGCATCGGGCCTGTATGATTGAATTCTGTGGGAAACAGTGGATACGGACAGATCTCGGCGACCTGATATCTGTCGAATACAATTCCGGAGCAGAAATCCTCTCGTTCCCGAAGTGTGAGGACAAGACGGTGGGGATGAGGGGAAACCTGGATGACTTTGCCTATCTAGACGATCTGGTGAAGGCCTCTGAGAGCAGAGAGGAATGTCTT\n",
      "114\n",
      "303\n"
     ]
    }
   ],
   "source": [
    "# Check that the nucleotide to number translation worked\n",
    "print numbers_genotypes[0]\n",
    "print alignment_dict['2009_mG179U_UP'].seq\n",
    "\n",
    "print len(numbers_genotypes) #still have the entire alignment of 114 genotypes\n",
    "print len(numbers_genotypes[0]) #still have the full sequence of 303 nts"
   ]
  },
  {
   "cell_type": "code",
   "execution_count": 6,
   "metadata": {
    "collapsed": false
   },
   "outputs": [
    {
     "name": "stdout",
     "output_type": "stream",
     "text": [
      "[[3 1 4 ..., 2 4 4]\n",
      " [3 1 4 ..., 2 4 4]\n",
      " [3 1 4 ..., 2 4 4]\n",
      " ..., \n",
      " [3 1 4 ..., 2 4 4]\n",
      " [3 1 4 ..., 2 4 4]\n",
      " [3 1 4 ..., 2 4 4]]\n"
     ]
    }
   ],
   "source": [
    "#turn the alignment into a numpy array\n",
    "import numpy as np\n",
    "alignment_array = np.array(numbers_genotypes)\n",
    "print alignment_array"
   ]
  },
  {
   "cell_type": "code",
   "execution_count": 7,
   "metadata": {
    "collapsed": false
   },
   "outputs": [
    {
     "name": "stdout",
     "output_type": "stream",
     "text": [
      "303\n",
      "[array([1, 2, 3]), array([3]), array([3]), array([4]), array([2]), array([1]), array([2]), array([2]), array([4]), array([0, 2, 3, 4]), array([4]), array([4]), array([4]), array([3]), array([2, 4]), array([2, 4]), array([3]), array([1]), array([1, 2, 4]), array([1])]\n"
     ]
    }
   ],
   "source": [
    "#now I want to go through each column in the alignment and see what nts are there\n",
    "#EG if I have only 'G' at all sites in the alignment there have been no nt changes at that site.\n",
    "# if I have 'A' in some sequences and 'G' in others then I have 2 nt variants at that site.\n",
    "\n",
    "#nt_variants is a list that keeps track of the number of variants observed at each site in the alignment\n",
    "nt_variants = []\n",
    "\n",
    "for i in range(len(alignment_array[0])): #go through each column in the alignment\n",
    "    column = alignment_array[:,i] #extract that entire column\n",
    "    variants = np.unique(column) #pull all variants observed at that site\n",
    "    nt_variants.append(variants) # add that list of variants to my \n",
    "\n",
    "print len(nt_variants) #this should be 303 because I need an entry for every site in the sequence \n",
    "print nt_variants[20:40] #have a look at the data structure. You can see that often there's only one nt\n",
    "#observed at a site, but sometimes there are multiple nts observed at a site."
   ]
  },
  {
   "cell_type": "code",
   "execution_count": 9,
   "metadata": {
    "collapsed": false
   },
   "outputs": [
    {
     "name": "stdout",
     "output_type": "stream",
     "text": [
      "83\n"
     ]
    }
   ],
   "source": [
    "#then count number of nt changes in an alignment column. Note this is NOT number of variants.\n",
    "#for instance if in an alignment column some seqs have and A and some have a G, this situation is counted\n",
    "#as one change at this site (A to G or G to A), although there are two variants.\n",
    "\n",
    "#also note that I am EXCLUDING ambiguous bases (not counting changes to an ambiguity)\n",
    "\n",
    "var_count = 0\n",
    "for element in nt_variants:\n",
    "    if 0 in element and len(element)>2:\n",
    "        var_count += int((len(element)-2)) #there's been one nt change at this site (excluding ambiguous)\n",
    "    elif 0 not in element and len(element)>1:\n",
    "        var_count += int((len(element)-1))\n",
    "    else:\n",
    "        continue\n",
    "print var_count"
   ]
  },
  {
   "cell_type": "markdown",
   "metadata": {},
   "source": [
    "## Count number of amino acid variants in the alignment"
   ]
  },
  {
   "cell_type": "code",
   "execution_count": 10,
   "metadata": {
    "collapsed": false
   },
   "outputs": [
    {
     "name": "stdout",
     "output_type": "stream",
     "text": [
      "114\n",
      "101\n"
     ]
    }
   ],
   "source": [
    "#get the amino acid sequences by translating the nucleotide sequences\n",
    "aa_seqs = []\n",
    "for key in alignment_dict.keys():\n",
    "    seq = alignment_dict[key].seq.translate()\n",
    "    aa_seqs.append(seq)\n",
    "\n",
    "print len(aa_seqs) #should be 114 because that's how many genotypes we have\n",
    "print len(aa_seqs[0]) #should be 101 aa's long (303/3)"
   ]
  },
  {
   "cell_type": "code",
   "execution_count": 11,
   "metadata": {
    "collapsed": false
   },
   "outputs": [
    {
     "name": "stdout",
     "output_type": "stream",
     "text": [
      "['D' 'S' 'S' 'Q' 'E' 'I' 'K' 'G' 'H' 'L' 'F' 'A' 'D' 'K' 'T' 'S' 'N' 'R'\n",
      " 'V' 'V' 'K' 'A' 'T' 'S' 'Y' 'G' 'H' 'H' 'P' 'W' 'G' 'L' 'H' 'R' 'A' 'C'\n",
      " 'M' 'I' 'E' 'F' 'C' 'G' 'K' 'Q' 'W' 'I' 'R' 'T' 'D' 'L' 'G' 'D' 'L' 'I'\n",
      " 'S' 'V' 'E' 'Y' 'N' 'S' 'G' 'A' 'E' 'I' 'L' 'S' 'F' 'P' 'K' 'C' 'E' 'D'\n",
      " 'K' 'T' 'V' 'G' 'M' 'R' 'G' 'N' 'L' 'D' 'D' 'F' 'A' 'Y' 'L' 'D' 'D' 'L'\n",
      " 'V' 'K' 'A' 'S' 'E' 'S' 'R' 'E' 'E' 'C' 'L']\n"
     ]
    }
   ],
   "source": [
    "aa_array = np.array(aa_seqs)\n",
    "print aa_array[0]"
   ]
  },
  {
   "cell_type": "code",
   "execution_count": 12,
   "metadata": {
    "collapsed": false
   },
   "outputs": [],
   "source": [
    "aa_variants = []\n",
    "for i in range(len(aa_array[0])): #the length of one sequence is the length of entire alignment\n",
    "    column = aa_array[:,i] #pull the alignment column\n",
    "    aavariants = np.unique(column) #get all unique amino acids in that column\n",
    "    aa_variants.append(aavariants)\n",
    "#print aa_variants"
   ]
  },
  {
   "cell_type": "code",
   "execution_count": 15,
   "metadata": {
    "collapsed": false
   },
   "outputs": [
    {
     "name": "stdout",
     "output_type": "stream",
     "text": [
      "36\n"
     ]
    }
   ],
   "source": [
    "#count number of amino acid changes observed at each alignment column. As above, this is NOT the number\n",
    "#of variants, but rather the number of aa changes (2 variants at a single site represents one change)\n",
    "#again, I'm excluding ambiguous amino acids (denoted by X) so as not to count them as a change.\n",
    "\n",
    "aa_variant_count = 0\n",
    "for element in aa_variants:\n",
    "    if 'X' in element and len(element)>2:\n",
    "        aa_variant_count +=(len(element)-2) #there's been one aa change at this site (excluding ambiguous)\n",
    "    elif 'X' not in element and len(element)>1:\n",
    "        aa_variant_count +=(len(element)-1)\n",
    "    else:\n",
    "        continue\n",
    "        \n",
    "#print len(aa_variant_count)\n",
    "print aa_variant_count\n"
   ]
  }
 ],
 "metadata": {
  "kernelspec": {
   "display_name": "Python 2",
   "language": "python",
   "name": "python2"
  },
  "language_info": {
   "codemirror_mode": {
    "name": "ipython",
    "version": 2
   },
   "file_extension": ".py",
   "mimetype": "text/x-python",
   "name": "python",
   "nbconvert_exporter": "python",
   "pygments_lexer": "ipython2",
   "version": "2.7.10"
  }
 },
 "nbformat": 4,
 "nbformat_minor": 0
}
