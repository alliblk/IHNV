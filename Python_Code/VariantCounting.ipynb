{
 "cells": [
  {
   "cell_type": "markdown",
   "metadata": {},
   "source": [
    "## Count number nucleotide variants in the alignment"
   ]
  },
  {
   "cell_type": "code",
   "execution_count": 28,
   "metadata": {
    "collapsed": false
   },
   "outputs": [],
   "source": [
    "#first, begin by importing the nucleotide sequences\n",
    "from Bio import SeqIO\n",
    "\n",
    "alignment_file = open('/Users/alliblk/Desktop/IHNV_Ongoing/Infiles/U_FirstDets_nucleotides.fasta', \"rU\")\n",
    "alignment_dict = SeqIO.to_dict(SeqIO.parse(alignment_file, \"fasta\"))\n",
    "alignment_file.close()"
   ]
  },
  {
   "cell_type": "code",
   "execution_count": 40,
   "metadata": {
    "collapsed": false
   },
   "outputs": [
    {
     "name": "stdout",
     "output_type": "stream",
     "text": [
      "114\n"
     ]
    }
   ],
   "source": [
    "#there are 114 genotypes so the dictionary should have length 114... yep\n",
    "print len(alignment_dict)"
   ]
  },
  {
   "cell_type": "code",
   "execution_count": 78,
   "metadata": {
    "collapsed": false
   },
   "outputs": [
    {
     "name": "stdout",
     "output_type": "stream",
     "text": [
      "[3, 1, 4, 4, 2, 2, 1, 3, 2, 2, 1, 1, 3, 1, 3, 1, 4, 1, 1, 1, 1, 3, 3, 4, 2, 1, 2, 2, 4, 2, 4, 4, 4, 3, 2, 4, 3, 1, 2, 1, 1, 1, 1, 2, 2, 4, 2, 2, 1, 1, 4, 2, 3, 1, 3, 4, 2, 3, 4, 3, 1, 1, 3, 3, 2, 1, 1, 2, 3, 1, 3, 2, 4, 1, 2, 3, 3, 1, 2, 1, 2, 2, 1, 2, 2, 2, 2, 4, 3, 3, 3, 3, 1, 2, 4, 3, 2, 1, 4, 2, 3, 3, 3, 2, 2, 4, 3, 4, 1, 4, 3, 1, 4, 4, 3, 1, 1, 4, 4, 2, 4, 3, 4, 3, 3, 3, 1, 1, 1, 2, 1, 3, 4, 3, 3, 1, 4, 1, 2, 3, 3, 1, 2, 1, 3, 1, 4, 2, 4, 2, 3, 3, 2, 3, 1, 2, 2, 4, 3, 1, 4, 1, 4, 2, 4, 3, 4, 2, 3, 1, 1, 4, 1, 2, 1, 1, 4, 4, 2, 2, 3, 3, 1, 3, 2, 1, 3, 1, 1, 1, 4, 2, 2, 4, 2, 4, 2, 3, 4, 4, 2, 2, 2, 3, 1, 1, 3, 4, 3, 4, 3, 1, 3, 3, 1, 2, 1, 1, 3, 1, 2, 3, 3, 4, 3, 3, 3, 3, 1, 4, 3, 1, 3, 3, 3, 3, 1, 1, 1, 2, 2, 4, 3, 3, 1, 4, 3, 1, 2, 4, 4, 4, 3, 2, 2, 4, 1, 4, 2, 4, 1, 3, 1, 2, 3, 1, 4, 2, 4, 3, 3, 4, 3, 1, 1, 3, 3, 2, 2, 4, 2, 4, 3, 1, 3, 1, 3, 2, 1, 3, 1, 3, 1, 3, 3, 1, 1, 4, 3, 4, 2, 4, 4]\n",
      "114\n",
      "303\n"
     ]
    }
   ],
   "source": [
    "#translate the alignment from nts to numbers to make array work later a bit easier.\n",
    "# all ambiguities will become 0 because I don't want to count them as variants.\n",
    "numbers_genotypes = []\n",
    "for key in alignment_dict.keys():\n",
    "    seq = alignment_dict[key].seq\n",
    "    numbers_sequence = []\n",
    "    for base in seq:\n",
    "        if base == 'A':\n",
    "            numbers_sequence.append(1)\n",
    "        elif base == 'C':\n",
    "            numbers_sequence.append(2)\n",
    "        elif base == 'G':\n",
    "            numbers_sequence.append(3)\n",
    "        elif base == 'T':\n",
    "            numbers_sequence.append(4)\n",
    "        else:\n",
    "            numbers_sequence.append(0)\n",
    "    numbers_genotypes.append(numbers_sequence)\n",
    "print numbers_genotypes[0]\n",
    "print len(numbers_genotypes)\n",
    "print len(numbers_genotypes[0])"
   ]
  },
  {
   "cell_type": "code",
   "execution_count": 80,
   "metadata": {
    "collapsed": false
   },
   "outputs": [
    {
     "name": "stdout",
     "output_type": "stream",
     "text": [
      "[[3 1 4 ..., 2 4 4]\n",
      " [3 1 4 ..., 2 4 4]\n",
      " [3 1 4 ..., 2 4 4]\n",
      " ..., \n",
      " [3 1 4 ..., 2 4 4]\n",
      " [3 1 4 ..., 2 4 4]\n",
      " [3 1 4 ..., 2 4 4]]\n"
     ]
    }
   ],
   "source": [
    "import numpy as np\n",
    "alignment_array = np.array(numbers_genotypes)\n",
    "#print alignment_array"
   ]
  },
  {
   "cell_type": "code",
   "execution_count": 153,
   "metadata": {
    "collapsed": false
   },
   "outputs": [
    {
     "name": "stdout",
     "output_type": "stream",
     "text": [
      "303\n"
     ]
    }
   ],
   "source": [
    "variant_count = []\n",
    "for i in range(len(alignment_array[0])):\n",
    "    column = alignment_array[:,i]\n",
    "    variants = np.unique(column)\n",
    "    variant_count.append(variants)\n",
    "print len(variant_count)\n",
    "#print variant_count"
   ]
  },
  {
   "cell_type": "code",
   "execution_count": 193,
   "metadata": {
    "collapsed": false
   },
   "outputs": [
    {
     "name": "stdout",
     "output_type": "stream",
     "text": [
      "number of sites with variants (excludes sites with null variants): 73\n",
      "total number of nucleotide variants: 156\n"
     ]
    }
   ],
   "source": [
    "#this calculates the total number of non-ambiguous variants at a site.\n",
    "#DON'T THINK THIS IS WHAT I WANT\n",
    "variants = []\n",
    "\n",
    "for element in variant_count:\n",
    "    if 0 in element and len(element)>2:\n",
    "        count = (len(element)-1)\n",
    "        variants.append(count)\n",
    "    elif 0 not in element and len(element)>1:\n",
    "        count = (len(element))\n",
    "        variants.append(count)\n",
    "    else:\n",
    "        continue\n",
    "        \n",
    "for element in variant_count:\n",
    "    if 0 in element:\n",
    "        null_counts +=1\n",
    "        \n",
    "print 'number of sites with variants (excludes sites with null variants): ' + str(len(variants))\n",
    "print 'total number of nucleotide variants: ' + str(sum(variants))\n"
   ]
  },
  {
   "cell_type": "code",
   "execution_count": 196,
   "metadata": {
    "collapsed": false
   },
   "outputs": [
    {
     "name": "stdout",
     "output_type": "stream",
     "text": [
      "83\n"
     ]
    }
   ],
   "source": [
    "#this way counts not the total number of variants, but rather the total number of changes.\n",
    "#for instance if at a site some seqs have and A and some have a G, this situation is counted\n",
    "#as one change at this site (A to G or G to A)\n",
    "\n",
    "#Think this is what I should use...\n",
    "\n",
    "var_count = 0\n",
    "for element in variant_count:\n",
    "    if 0 in element and len(element)>2:\n",
    "        var_count += int((len(element)-2)) #there's been one nt change at this site (excluding ambiguous)\n",
    "    elif 0 not in element and len(element)>1:\n",
    "        var_count += int((len(element)-1))\n",
    "    else:\n",
    "        continue\n",
    "print var_count"
   ]
  },
  {
   "cell_type": "code",
   "execution_count": 190,
   "metadata": {
    "collapsed": false
   },
   "outputs": [
    {
     "name": "stdout",
     "output_type": "stream",
     "text": [
      "92\n"
     ]
    }
   ],
   "source": [
    "#try just counting sites that show differences in the alignment including ambiguity\n",
    "site_count = 0\n",
    "for element in variant_count:\n",
    "    if len(element)>1:\n",
    "        site_count +=1\n",
    "print site_count"
   ]
  },
  {
   "cell_type": "markdown",
   "metadata": {},
   "source": [
    "## Count number of amino acid variants in the alignment"
   ]
  },
  {
   "cell_type": "code",
   "execution_count": 152,
   "metadata": {
    "collapsed": false
   },
   "outputs": [
    {
     "name": "stdout",
     "output_type": "stream",
     "text": [
      "114\n",
      "101\n"
     ]
    }
   ],
   "source": [
    "#get the amino acid sequences by translating the nucleotide sequences\n",
    "aa_seqs = []\n",
    "for key in alignment_dict.keys():\n",
    "    seq = alignment_dict[key].seq.translate()\n",
    "    aa_seqs.append(seq)\n",
    "\n",
    "print len(aa_seqs) #should be 114 because that's how many genotypes we have\n",
    "print len(aa_seqs[0]) #should be 101 aa's long (303/3)"
   ]
  },
  {
   "cell_type": "code",
   "execution_count": 177,
   "metadata": {
    "collapsed": false
   },
   "outputs": [
    {
     "name": "stdout",
     "output_type": "stream",
     "text": [
      "[['D' 'S' 'S' ..., 'E' 'C' 'L']\n",
      " ['D' 'S' 'S' ..., 'E' 'C' 'L']\n",
      " ['D' 'S' 'S' ..., 'E' 'C' 'L']\n",
      " ..., \n",
      " ['D' 'S' 'S' ..., 'E' 'C' 'L']\n",
      " ['D' 'S' 'S' ..., 'E' 'C' 'L']\n",
      " ['D' 'S' 'S' ..., 'E' 'C' 'L']]\n"
     ]
    }
   ],
   "source": [
    "aa_array = np.array(aa_seqs)\n",
    "print aa_array"
   ]
  },
  {
   "cell_type": "code",
   "execution_count": 178,
   "metadata": {
    "collapsed": false
   },
   "outputs": [],
   "source": [
    "aa_variants = []\n",
    "for i in range(len(aa_array[0])):\n",
    "    column = aa_array[:,i]\n",
    "    aavariants = np.unique(column)\n",
    "    aa_variants.append(aavariants)\n",
    "#print aa_variants"
   ]
  },
  {
   "cell_type": "code",
   "execution_count": 200,
   "metadata": {
    "collapsed": false
   },
   "outputs": [
    {
     "name": "stdout",
     "output_type": "stream",
     "text": [
      "36\n"
     ]
    }
   ],
   "source": [
    "aa_variant_count = 0\n",
    "\n",
    "for element in aa_variants:\n",
    "    if 'X' in element and len(element)>2:\n",
    "        aa_variant_count +=(len(element)-2) #there's been one aa change at this site (excluding ambiguous)\n",
    "    elif 'X' not in element and len(element)>1:\n",
    "        aa_variant_count +=(len(element)-1)\n",
    "    else:\n",
    "        continue\n",
    "        \n",
    "#print len(aa_variant_count)\n",
    "print aa_variant_count\n"
   ]
  }
 ],
 "metadata": {
  "kernelspec": {
   "display_name": "Python 2",
   "language": "python",
   "name": "python2"
  },
  "language_info": {
   "codemirror_mode": {
    "name": "ipython",
    "version": 2
   },
   "file_extension": ".py",
   "mimetype": "text/x-python",
   "name": "python",
   "nbconvert_exporter": "python",
   "pygments_lexer": "ipython2",
   "version": "2.7.10"
  }
 },
 "nbformat": 4,
 "nbformat_minor": 0
}
